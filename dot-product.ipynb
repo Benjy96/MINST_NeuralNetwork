{
 "cells": [
  {
   "cell_type": "code",
   "execution_count": null,
   "metadata": {},
   "outputs": [],
   "source": [
    "import numpy as np"
   ]
  },
  {
   "cell_type": "code",
   "execution_count": 3,
   "metadata": {},
   "outputs": [
    {
     "name": "stdout",
     "output_type": "stream",
     "text": [
      "4.3\n"
     ]
    }
   ],
   "source": [
    "# Dot Product of Vectors: Multiply same index of each vector and sum the results\n",
    "inputs = [1, 2, 3, 4]\n",
    "weights = [0.2, 0.8, -0.5, 1.0]\n",
    "bias = 2\n",
    "\n",
    "output = np.dot(weights,inputs)\n",
    "print(output)\n",
    "\n",
    "# [0.2, 0.8, -0.5, 1.0] * [1, 2, 3, 4]\n",
    "# (0.2 * 1) + (0.8 * 2) + (-0.5 * 3) + (1.0 * 4)\n",
    "# (.2) + (1.6) + (-1.5) + (4)\n",
    "# 4.3"
   ]
  },
  {
   "cell_type": "code",
   "execution_count": 4,
   "metadata": {},
   "outputs": [
    {
     "name": "stdout",
     "output_type": "stream",
     "text": [
      "6.3\n"
     ]
    }
   ],
   "source": [
    "output = np.dot(weights, inputs) + bias\n",
    "print(output)"
   ]
  },
  {
   "cell_type": "code",
   "execution_count": 5,
   "metadata": {},
   "outputs": [
    {
     "name": "stdout",
     "output_type": "stream",
     "text": [
      "4.3\n"
     ]
    }
   ],
   "source": [
    "# Order of .dot(x, y) doesn't matter with vectors\n",
    "output = np.dot(inputs, weights)\n",
    "print(output)"
   ]
  },
  {
   "cell_type": "code",
   "execution_count": 8,
   "metadata": {},
   "outputs": [
    {
     "name": "stdout",
     "output_type": "stream",
     "text": [
      "[ 4.3 12.1]\n"
     ]
    }
   ],
   "source": [
    "# Dot Product of Vector & Matrix: Multiply same index of each vector and sum the results\n",
    "inputs = [1, 2, 3, 4]\n",
    "weights = [\n",
    "            [0.2, 0.8, -0.5, 1.0],\n",
    "            [0.5, 0.1, -0.2, 3.0]\n",
    "        ]\n",
    "bias = 2\n",
    "\n",
    "output = np.dot(weights, inputs)    # Multiply 2 sets of vectors against the inputs (and sum)\n",
    "print(output)   # Notice returns array of 2 (because weights was shape used)\n",
    "                # If we did (inputs, weights), the shape would be array of 1, which isn't long enough"
   ]
  },
  {
   "cell_type": "code",
   "execution_count": 10,
   "metadata": {},
   "outputs": [
    {
     "ename": "ValueError",
     "evalue": "shapes (4,) and (2,4) not aligned: 4 (dim 0) != 2 (dim 0)",
     "output_type": "error",
     "traceback": [
      "\u001b[1;31m---------------------------------------------------------------------------\u001b[0m",
      "\u001b[1;31mValueError\u001b[0m                                Traceback (most recent call last)",
      "Cell \u001b[1;32mIn[10], line 1\u001b[0m\n\u001b[1;32m----> 1\u001b[0m output \u001b[39m=\u001b[39m np\u001b[39m.\u001b[39;49mdot(inputs, weights)\n\u001b[0;32m      2\u001b[0m \u001b[39mprint\u001b[39m(output)\n",
      "File \u001b[1;32m<__array_function__ internals>:200\u001b[0m, in \u001b[0;36mdot\u001b[1;34m(*args, **kwargs)\u001b[0m\n",
      "\u001b[1;31mValueError\u001b[0m: shapes (4,) and (2,4) not aligned: 4 (dim 0) != 2 (dim 0)"
     ]
    }
   ],
   "source": [
    "# ERROR: shapes (4,) and (2,4) not aligned: 4 != 2\n",
    "# output = np.dot(inputs, weights) # Multiply 1 vector against 2 inputs (and sum) -> will be 2 results, but passing inputs expects 1, as 1 vector\n",
    "# print(output)\n",
    "\n",
    "# .dot(weights, inputs) -> for each weight, dot product against input -> returns 2 dot products in an array\n",
    "    # .dot(weights[0], inputs)\n",
    "    # .dot(weights[1], inputs)\n",
    "# .dot(inputs, weights) -> for each input, dot product against weights -> ERROR, one input vs multi weights\n",
    "    # .dot(inputs[0]) -> ERROR, not an array"
   ]
  }
 ],
 "metadata": {
  "kernelspec": {
   "display_name": "Python 3",
   "language": "python",
   "name": "python3"
  },
  "language_info": {
   "codemirror_mode": {
    "name": "ipython",
    "version": 3
   },
   "file_extension": ".py",
   "mimetype": "text/x-python",
   "name": "python",
   "nbconvert_exporter": "python",
   "pygments_lexer": "ipython3",
   "version": "3.10.9"
  },
  "orig_nbformat": 4,
  "vscode": {
   "interpreter": {
    "hash": "8ba46140cfef548baead5c5b8b6f740076b495b1ff9526d88ed81dd1f0a7e9aa"
   }
  }
 },
 "nbformat": 4,
 "nbformat_minor": 2
}
