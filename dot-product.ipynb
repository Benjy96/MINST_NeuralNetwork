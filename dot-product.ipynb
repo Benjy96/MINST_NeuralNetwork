{
 "cells": [
  {
   "cell_type": "code",
   "execution_count": null,
   "metadata": {},
   "outputs": [],
   "source": [
    "import numpy as np"
   ]
  },
  {
   "cell_type": "code",
   "execution_count": 3,
   "metadata": {},
   "outputs": [
    {
     "name": "stdout",
     "output_type": "stream",
     "text": [
      "4.3\n"
     ]
    }
   ],
   "source": [
    "# Dot Product of Vectors: Multiply same index of each vector and sum the results\n",
    "inputs = [1, 2, 3, 4]\n",
    "weights = [0.2, 0.8, -0.5, 1.0]\n",
    "bias = 2\n",
    "\n",
    "output = np.dot(weights,inputs)\n",
    "print(output)\n",
    "\n",
    "# [0.2, 0.8, -0.5, 1.0] * [1, 2, 3, 4]\n",
    "# (0.2 * 1) + (0.8 * 2) + (-0.5 * 3) + (1.0 * 4)\n",
    "# (.2) + (1.6) + (-1.5) + (4)\n",
    "# 4.3"
   ]
  },
  {
   "cell_type": "code",
   "execution_count": 4,
   "metadata": {},
   "outputs": [
    {
     "name": "stdout",
     "output_type": "stream",
     "text": [
      "6.3\n"
     ]
    }
   ],
   "source": [
    "output = np.dot(weights, inputs) + bias\n",
    "print(output)"
   ]
  },
  {
   "cell_type": "code",
   "execution_count": 5,
   "metadata": {},
   "outputs": [
    {
     "name": "stdout",
     "output_type": "stream",
     "text": [
      "4.3\n"
     ]
    }
   ],
   "source": [
    "# Order of .dot(x, y) doesn't matter with vectors\n",
    "output = np.dot(inputs, weights)\n",
    "print(output)"
   ]
  }
 ],
 "metadata": {
  "kernelspec": {
   "display_name": "Python 3",
   "language": "python",
   "name": "python3"
  },
  "language_info": {
   "codemirror_mode": {
    "name": "ipython",
    "version": 3
   },
   "file_extension": ".py",
   "mimetype": "text/x-python",
   "name": "python",
   "nbconvert_exporter": "python",
   "pygments_lexer": "ipython3",
   "version": "3.10.9"
  },
  "orig_nbformat": 4,
  "vscode": {
   "interpreter": {
    "hash": "8ba46140cfef548baead5c5b8b6f740076b495b1ff9526d88ed81dd1f0a7e9aa"
   }
  }
 },
 "nbformat": 4,
 "nbformat_minor": 2
}
