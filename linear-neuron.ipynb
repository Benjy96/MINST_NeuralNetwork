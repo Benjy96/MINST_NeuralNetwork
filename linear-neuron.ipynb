{
 "cells": [
  {
   "cell_type": "code",
   "execution_count": 2,
   "metadata": {},
   "outputs": [],
   "source": [
    "import numpy as np"
   ]
  },
  {
   "cell_type": "code",
   "execution_count": 6,
   "metadata": {},
   "outputs": [
    {
     "name": "stdout",
     "output_type": "stream",
     "text": [
      "4.430000000000001\n"
     ]
    }
   ],
   "source": [
    "inputs = [1,0,1,0,1,1]\n",
    "\n",
    "# weights for each input & a bias make up a single neuron\n",
    "def neuron(inputs, weights=[.3,.2,1.3,.45,.97,.66], bias=1.2):\n",
    "    return np.dot(inputs, weights) + bias\n",
    "\n",
    "print(neuron(inputs))"
   ]
  }
 ],
 "metadata": {
  "kernelspec": {
   "display_name": "Python 3",
   "language": "python",
   "name": "python3"
  },
  "language_info": {
   "codemirror_mode": {
    "name": "ipython",
    "version": 3
   },
   "file_extension": ".py",
   "mimetype": "text/x-python",
   "name": "python",
   "nbconvert_exporter": "python",
   "pygments_lexer": "ipython3",
   "version": "3.10.9"
  },
  "orig_nbformat": 4,
  "vscode": {
   "interpreter": {
    "hash": "8ba46140cfef548baead5c5b8b6f740076b495b1ff9526d88ed81dd1f0a7e9aa"
   }
  }
 },
 "nbformat": 4,
 "nbformat_minor": 2
}
