{
 "cells": [
  {
   "cell_type": "code",
   "execution_count": 130,
   "metadata": {},
   "outputs": [],
   "source": [
    "import matplotlib.pyplot as plt\n",
    "import numpy as np"
   ]
  },
  {
   "cell_type": "code",
   "execution_count": 131,
   "metadata": {},
   "outputs": [],
   "source": [
    "def ReLU(x, debug=False):\n",
    "    '''@returns y'''\n",
    "    if debug:\n",
    "        print(\"ReLU x input:\", x)\n",
    "    if x > 0:\n",
    "        if debug:\n",
    "            print(\"Returning x:\", x)\n",
    "        return x\n",
    "    else:\n",
    "        if debug:\n",
    "            print(\"Returning 0\")\n",
    "        return 0"
   ]
  },
  {
   "cell_type": "code",
   "execution_count": 132,
   "metadata": {},
   "outputs": [],
   "source": [
    "def run_ReLU_neuron(weight=1, bias=0, x_inputs=[], no_x_lower_bound=-5, no_x_upper_bound=5, debug=False, plot=False):\n",
    "    '''Defaults to lower_bound->upper_bound if no x_inputs provided'''\n",
    "    relu_inputs = []\n",
    "    y_results = []\n",
    "\n",
    "    if len(x_inputs) > 0:\n",
    "        for i in range(len(x_inputs)):\n",
    "            relu_input = (np.dot(x_inputs[i], weight)) + bias\n",
    "            relu_inputs.append(relu_input)\n",
    "\n",
    "            y_results.append(ReLU(relu_input))\n",
    "    else:\n",
    "        for i in range(no_x_lower_bound, no_x_upper_bound):\n",
    "            x_inputs.append(i)\n",
    "            relu_input = (np.dot(i, weight)) + bias\n",
    "            relu_inputs.append(relu_input)\n",
    "\n",
    "            y_results.append(ReLU(relu_input))\n",
    "\n",
    "    if debug:\n",
    "        print(\"*****\")\n",
    "        print(\"Weight:\", weight, \"Bias:\", bias)\n",
    "        print(\"X Inputs:\", x_inputs)\n",
    "        print(\"RELU Inputs:\", relu_inputs)\n",
    "        print(\"Y Results:\", y_results)\n",
    "    if plot:\n",
    "        plt.plot(x_inputs, y_results)\n",
    "        plt.xlabel(\"x (Orig Input Before Weight & Bias)\")\n",
    "        plt.ylabel(\"y (ReLU output)\")\n",
    "        plt.ylim(ymin=0)\n",
    "        plt.show()\n",
    "\n",
    "    return y_results"
   ]
  },
  {
   "cell_type": "code",
   "execution_count": 133,
   "metadata": {},
   "outputs": [
    {
     "data": {
      "text/plain": [
       "[-5, -4, -3, -2, -1, 0, 1, 2, 3, 4]"
      ]
     },
     "execution_count": 133,
     "metadata": {},
     "output_type": "execute_result"
    }
   ],
   "source": [
    "X = []\n",
    "for i in range(-5, 5):\n",
    "    X.append(i)\n",
    "\n",
    "X"
   ]
  },
  {
   "cell_type": "code",
   "execution_count": 134,
   "metadata": {},
   "outputs": [
    {
     "data": {
      "image/png": "[encoded data removed]",
      "text/plain": [
       "<Figure size 432x288 with 1 Axes>"
      ]
     },
     "metadata": {
      "needs_background": "light"
     },
     "output_type": "display_data"
    },
    {
     "data": {
      "text/plain": [
       "[0, 0, 0, 0, 0, 0, 1, 2, 3, 4]"
      ]
     },
     "execution_count": 134,
     "metadata": {},
     "output_type": "execute_result"
    }
   ],
   "source": [
    "run_ReLU_neuron(weight=1, bias=0, x_inputs=X, plot=True)"
   ]
  },
  {
   "cell_type": "code",
   "execution_count": 135,
   "metadata": {},
   "outputs": [],
   "source": [
    "# y1 = ReLU((w1 * x1) + b1)\n",
    "y1 = run_ReLU_neuron(weight=-1, bias=0, x_inputs=X)"
   ]
  },
  {
   "cell_type": "code",
   "execution_count": 136,
   "metadata": {},
   "outputs": [
    {
     "name": "stdout",
     "output_type": "stream",
     "text": [
      "[6, 5, 4, 3, 2, 1, 1, 1, 1, 1]\n"
     ]
    }
   ],
   "source": [
    "# y2 = ReLU((w2 * y1) + b2)\n",
    "y2 = run_ReLU_neuron(weight=1, bias=1, x_inputs=y1)\n",
    "print(y2)"
   ]
  },
  {
   "cell_type": "code",
   "execution_count": 137,
   "metadata": {},
   "outputs": [
    {
     "data": {
      "image/png": "[encoded data removed]",
      "text/plain": [
       "<Figure size 432x288 with 1 Axes>"
      ]
     },
     "metadata": {
      "needs_background": "light"
     },
     "output_type": "display_data"
    }
   ],
   "source": [
    "plt.plot(X, y2)\n",
    "plt.xlabel(\"x (Orig Input Before All Neuron layers)\")\n",
    "plt.ylabel(\"y (Final output)\")\n",
    "plt.ylim(ymin=0)\n",
    "plt.show()"
   ]
  }
 ],
 "metadata": {
  "kernelspec": {
   "display_name": "Python 3",
   "language": "python",
   "name": "python3"
  },
  "language_info": {
   "codemirror_mode": {
    "name": "ipython",
    "version": 3
   },
   "file_extension": ".py",
   "mimetype": "text/x-python",
   "name": "python",
   "nbconvert_exporter": "python",
   "pygments_lexer": "ipython3",
   "version": "3.7.0"
  },
  "orig_nbformat": 4,
  "vscode": {
   "interpreter": {
    "hash": "eec67bece78a636467b96713ad9783ecddf94761545077dbecfcf88302223227"
   }
  }
 },
 "nbformat": 4,
 "nbformat_minor": 2
}
