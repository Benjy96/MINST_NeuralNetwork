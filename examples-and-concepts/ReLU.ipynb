{
 "cells": [
  {
   "cell_type": "code",
   "execution_count": 66,
   "metadata": {},
   "outputs": [],
   "source": [
    "import matplotlib.pyplot as plt"
   ]
  },
  {
   "cell_type": "code",
   "execution_count": 67,
   "metadata": {},
   "outputs": [],
   "source": [
    "def ReLU(x):\n",
    "    '''@returns y'''\n",
    "    print(\"ReLU x input:\", x)\n",
    "    if x > 0:\n",
    "        print(\"Returning x:\", x)\n",
    "        return x\n",
    "    else:\n",
    "        print(\"Returning 0\")\n",
    "        return 0"
   ]
  },
  {
   "cell_type": "code",
   "execution_count": 68,
   "metadata": {},
   "outputs": [],
   "source": [
    "def display_ReLU(weight=1, bias=0, lower_bound=-10, upper_bound=10):\n",
    "    x_inputs = []\n",
    "    relu_inputs = []\n",
    "\n",
    "    y_results = []\n",
    "    for i in range(-5, 5):\n",
    "        x_inputs.append(i)\n",
    "        relu_input = (i * weight) + bias\n",
    "        relu_inputs.append(relu_input)\n",
    "\n",
    "        y_results.append(ReLU(relu_input))\n",
    "\n",
    "    print(\"*****\")\n",
    "    print(\"Weight:\", weight, \"Bias:\", bias)\n",
    "    print(\"X Inputs:\", x_inputs)\n",
    "    print(\"RELU Inputs:\", relu_inputs)\n",
    "    print(\"Results:\", y_results)\n",
    "\n",
    "    plt.plot(x_inputs, y_results)\n",
    "    plt.xlabel(\"x (Inputs)\")\n",
    "    plt.ylabel(\"y (ReLU output)\")\n",
    "    plt.show()"
   ]
  },
  {
   "cell_type": "code",
   "execution_count": 69,
   "metadata": {},
   "outputs": [
    {
     "name": "stdout",
     "output_type": "stream",
     "text": [
      "ReLU x input: -5\n",
      "Returning 0\n",
      "ReLU x input: -4\n",
      "Returning 0\n",
      "ReLU x input: -3\n",
      "Returning 0\n",
      "ReLU x input: -2\n",
      "Returning 0\n",
      "ReLU x input: -1\n",
      "Returning 0\n",
      "ReLU x input: 0\n",
      "Returning 0\n",
      "ReLU x input: 1\n",
      "Returning x: 1\n",
      "ReLU x input: 2\n",
      "Returning x: 2\n",
      "ReLU x input: 3\n",
      "Returning x: 3\n",
      "ReLU x input: 4\n",
      "Returning x: 4\n",
      "Weight: 1 Bias: 0\n",
      "X Inputs: [-5, -4, -3, -2, -1, 0, 1, 2, 3, 4]\n",
      "RELU Inputs: [-5, -4, -3, -2, -1, 0, 1, 2, 3, 4]\n",
      "Results: [0, 0, 0, 0, 0, 0, 1, 2, 3, 4]\n"
     ]
    },
    {
     "data": {
      "image/png": "[encoded data removed]",
      "text/plain": [
       "<Figure size 432x288 with 1 Axes>"
      ]
     },
     "metadata": {
      "needs_background": "light"
     },
     "output_type": "display_data"
    }
   ],
   "source": [
    "display_ReLU(weight=1, bias=0)"
   ]
  },
  {
   "cell_type": "code",
   "execution_count": 70,
   "metadata": {},
   "outputs": [
    {
     "name": "stdout",
     "output_type": "stream",
     "text": [
      "ReLU x input: 5\n",
      "Returning x: 5\n",
      "ReLU x input: 4\n",
      "Returning x: 4\n",
      "ReLU x input: 3\n",
      "Returning x: 3\n",
      "ReLU x input: 2\n",
      "Returning x: 2\n",
      "ReLU x input: 1\n",
      "Returning x: 1\n",
      "ReLU x input: 0\n",
      "Returning 0\n",
      "ReLU x input: -1\n",
      "Returning 0\n",
      "ReLU x input: -2\n",
      "Returning 0\n",
      "ReLU x input: -3\n",
      "Returning 0\n",
      "ReLU x input: -4\n",
      "Returning 0\n",
      "Weight: -1 Bias: 0\n",
      "X Inputs: [-5, -4, -3, -2, -1, 0, 1, 2, 3, 4]\n",
      "RELU Inputs: [5, 4, 3, 2, 1, 0, -1, -2, -3, -4]\n",
      "Results: [5, 4, 3, 2, 1, 0, 0, 0, 0, 0]\n"
     ]
    },
    {
     "data": {
      "image/png": "[encoded data removed]",
      "text/plain": [
       "<Figure size 432x288 with 1 Axes>"
      ]
     },
     "metadata": {
      "needs_background": "light"
     },
     "output_type": "display_data"
    }
   ],
   "source": [
    "display_ReLU(weight=-1, bias=0)"
   ]
  }
 ],
 "metadata": {
  "kernelspec": {
   "display_name": "Python 3",
   "language": "python",
   "name": "python3"
  },
  "language_info": {
   "codemirror_mode": {
    "name": "ipython",
    "version": 3
   },
   "file_extension": ".py",
   "mimetype": "text/x-python",
   "name": "python",
   "nbconvert_exporter": "python",
   "pygments_lexer": "ipython3",
   "version": "3.7.0"
  },
  "orig_nbformat": 4,
  "vscode": {
   "interpreter": {
    "hash": "eec67bece78a636467b96713ad9783ecddf94761545077dbecfcf88302223227"
   }
  }
 },
 "nbformat": 4,
 "nbformat_minor": 2
}
