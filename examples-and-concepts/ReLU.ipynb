{
 "cells": [
  {
   "cell_type": "code",
   "execution_count": 30,
   "metadata": {},
   "outputs": [],
   "source": [
    "import matplotlib.pyplot as plt\n",
    "import numpy as np"
   ]
  },
  {
   "cell_type": "code",
   "execution_count": 31,
   "metadata": {},
   "outputs": [],
   "source": [
    "def ReLU(x):\n",
    "    '''@returns y'''\n",
    "    print(\"ReLU x input:\", x)\n",
    "    if x > 0:\n",
    "        print(\"Returning x:\", x)\n",
    "        return x\n",
    "    else:\n",
    "        print(\"Returning 0\")\n",
    "        return 0"
   ]
  },
  {
   "cell_type": "code",
   "execution_count": 32,
   "metadata": {},
   "outputs": [],
   "source": [
    "def run_ReLU_neuron(weight=1, bias=0, x_inputs=[], lower_bound=-5, upper_bound=5):\n",
    "    relu_inputs = []\n",
    "    y_results = []\n",
    "\n",
    "    if len(x_inputs) > 0:\n",
    "        for i in range(len(x_inputs)):\n",
    "            relu_input = (np.dot(x_inputs[i], weight)) + bias\n",
    "            relu_inputs.append(relu_input)\n",
    "\n",
    "            y_results.append(ReLU(relu_input))\n",
    "    else:\n",
    "        for i in range(lower_bound, upper_bound):\n",
    "            x_inputs.append(i)\n",
    "            relu_input = (np.dot(i, weight)) + bias\n",
    "            relu_inputs.append(relu_input)\n",
    "\n",
    "            y_results.append(ReLU(relu_input))\n",
    "\n",
    "    print(\"*****\")\n",
    "    print(\"Weight:\", weight, \"Bias:\", bias)\n",
    "    print(\"X Inputs:\", x_inputs)\n",
    "    print(\"RELU Inputs:\", relu_inputs)\n",
    "    print(\"Y Results:\", y_results)\n",
    "\n",
    "    plt.plot(x_inputs, y_results)\n",
    "    plt.xlabel(\"x (Inputs)\")\n",
    "    plt.ylabel(\"y (ReLU output)\")\n",
    "    plt.show()\n",
    "\n",
    "    return y_results"
   ]
  },
  {
   "cell_type": "code",
   "execution_count": 33,
   "metadata": {},
   "outputs": [
    {
     "name": "stdout",
     "output_type": "stream",
     "text": [
      "ReLU x input: -5\n",
      "Returning 0\n",
      "ReLU x input: -4\n",
      "Returning 0\n",
      "ReLU x input: -3\n",
      "Returning 0\n",
      "ReLU x input: -2\n",
      "Returning 0\n",
      "ReLU x input: -1\n",
      "Returning 0\n",
      "ReLU x input: 0\n",
      "Returning 0\n",
      "ReLU x input: 1\n",
      "Returning x: 1\n",
      "ReLU x input: 2\n",
      "Returning x: 2\n",
      "ReLU x input: 3\n",
      "Returning x: 3\n",
      "ReLU x input: 4\n",
      "Returning x: 4\n",
      "*****\n",
      "Weight: 1 Bias: 0\n",
      "X Inputs: [-5, -4, -3, -2, -1, 0, 1, 2, 3, 4]\n",
      "RELU Inputs: [-5, -4, -3, -2, -1, 0, 1, 2, 3, 4]\n",
      "Y Results: [0, 0, 0, 0, 0, 0, 1, 2, 3, 4]\n"
     ]
    },
    {
     "data": {
      "image/png": "[encoded data removed]",
      "text/plain": [
       "<Figure size 432x288 with 1 Axes>"
      ]
     },
     "metadata": {
      "needs_background": "light"
     },
     "output_type": "display_data"
    },
    {
     "data": {
      "text/plain": [
       "[0, 0, 0, 0, 0, 0, 1, 2, 3, 4]"
      ]
     },
     "execution_count": 33,
     "metadata": {},
     "output_type": "execute_result"
    }
   ],
   "source": [
    "run_ReLU_neuron(weight=1, bias=0)"
   ]
  },
  {
   "cell_type": "code",
   "execution_count": 34,
   "metadata": {},
   "outputs": [
    {
     "name": "stdout",
     "output_type": "stream",
     "text": [
      "ReLU x input: 5\n",
      "Returning x: 5\n",
      "ReLU x input: 4\n",
      "Returning x: 4\n",
      "ReLU x input: 3\n",
      "Returning x: 3\n",
      "ReLU x input: 2\n",
      "Returning x: 2\n",
      "ReLU x input: 1\n",
      "Returning x: 1\n",
      "ReLU x input: 0\n",
      "Returning 0\n",
      "ReLU x input: -1\n",
      "Returning 0\n",
      "ReLU x input: -2\n",
      "Returning 0\n",
      "ReLU x input: -3\n",
      "Returning 0\n",
      "ReLU x input: -4\n",
      "Returning 0\n",
      "*****\n",
      "Weight: -1 Bias: 0\n",
      "X Inputs: [-5, -4, -3, -2, -1, 0, 1, 2, 3, 4]\n",
      "RELU Inputs: [5, 4, 3, 2, 1, 0, -1, -2, -3, -4]\n",
      "Y Results: [5, 4, 3, 2, 1, 0, 0, 0, 0, 0]\n"
     ]
    },
    {
     "data": {
      "image/png": "[encoded data removed]",
      "text/plain": [
       "<Figure size 432x288 with 1 Axes>"
      ]
     },
     "metadata": {
      "needs_background": "light"
     },
     "output_type": "display_data"
    }
   ],
   "source": [
    "neg_weight_relu_results = run_ReLU_neuron(weight=-1, bias=0)"
   ]
  },
  {
   "cell_type": "code",
   "execution_count": 35,
   "metadata": {},
   "outputs": [
    {
     "name": "stdout",
     "output_type": "stream",
     "text": [
      "ReLU x input: 6\n",
      "Returning x: 6\n",
      "ReLU x input: 5\n",
      "Returning x: 5\n",
      "ReLU x input: 4\n",
      "Returning x: 4\n",
      "ReLU x input: 3\n",
      "Returning x: 3\n",
      "ReLU x input: 2\n",
      "Returning x: 2\n",
      "ReLU x input: 1\n",
      "Returning x: 1\n",
      "ReLU x input: 1\n",
      "Returning x: 1\n",
      "ReLU x input: 1\n",
      "Returning x: 1\n",
      "ReLU x input: 1\n",
      "Returning x: 1\n",
      "ReLU x input: 1\n",
      "Returning x: 1\n",
      "*****\n",
      "Weight: 1 Bias: 1\n",
      "X Inputs: [5, 4, 3, 2, 1, 0, 0, 0, 0, 0]\n",
      "RELU Inputs: [6, 5, 4, 3, 2, 1, 1, 1, 1, 1]\n",
      "Y Results: [6, 5, 4, 3, 2, 1, 1, 1, 1, 1]\n"
     ]
    },
    {
     "data": {
      "image/png": "[encoded data removed]",
      "text/plain": [
       "<Figure size 432x288 with 1 Axes>"
      ]
     },
     "metadata": {
      "needs_background": "light"
     },
     "output_type": "display_data"
    },
    {
     "data": {
      "text/plain": [
       "[6, 5, 4, 3, 2, 1, 1, 1, 1, 1]"
      ]
     },
     "execution_count": 35,
     "metadata": {},
     "output_type": "execute_result"
    }
   ],
   "source": [
    "run_ReLU_neuron(weight=1, bias=1, x_inputs=neg_weight_relu_results)"
   ]
  }
 ],
 "metadata": {
  "kernelspec": {
   "display_name": "Python 3",
   "language": "python",
   "name": "python3"
  },
  "language_info": {
   "codemirror_mode": {
    "name": "ipython",
    "version": 3
   },
   "file_extension": ".py",
   "mimetype": "text/x-python",
   "name": "python",
   "nbconvert_exporter": "python",
   "pygments_lexer": "ipython3",
   "version": "3.7.0"
  },
  "orig_nbformat": 4,
  "vscode": {
   "interpreter": {
    "hash": "eec67bece78a636467b96713ad9783ecddf94761545077dbecfcf88302223227"
   }
  }
 },
 "nbformat": 4,
 "nbformat_minor": 2
}
