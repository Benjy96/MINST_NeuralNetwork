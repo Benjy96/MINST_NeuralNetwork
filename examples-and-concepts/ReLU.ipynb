{
 "cells": [
  {
   "cell_type": "code",
   "execution_count": 94,
   "metadata": {},
   "outputs": [],
   "source": [
    "import matplotlib.pyplot as plt"
   ]
  },
  {
   "cell_type": "code",
   "execution_count": 95,
   "metadata": {},
   "outputs": [],
   "source": [
    "def ReLU(x):\n",
    "    '''@returns y'''\n",
    "    print(\"ReLU x input:\", x)\n",
    "    if x > 0:\n",
    "        print(\"Returning x:\", x)\n",
    "        return x\n",
    "    else:\n",
    "        print(\"Returning 0\")\n",
    "        return 0"
   ]
  },
  {
   "cell_type": "code",
   "execution_count": 96,
   "metadata": {},
   "outputs": [],
   "source": [
    "def display_ReLU(weight=1, bias=0, x_inputs=[], lower_bound=-10, upper_bound=10):\n",
    "    relu_inputs = []\n",
    "    y_results = []\n",
    "\n",
    "    if len(x_inputs) > 0:\n",
    "        for i in range(len(x_inputs)):\n",
    "            relu_input = (x_inputs[i] * weight) + bias\n",
    "            relu_inputs.append(relu_input)\n",
    "\n",
    "            y_results.append(ReLU(relu_input))\n",
    "    else:\n",
    "        for i in range(-5, 5):\n",
    "            x_inputs.append(i)\n",
    "            relu_input = (i * weight) + bias\n",
    "            relu_inputs.append(relu_input)\n",
    "\n",
    "            y_results.append(ReLU(relu_input))\n",
    "\n",
    "    print(\"*****\")\n",
    "    print(\"Weight:\", weight, \"Bias:\", bias)\n",
    "    print(\"X Inputs:\", x_inputs)\n",
    "    print(\"RELU Inputs:\", relu_inputs)\n",
    "    print(\"Results:\", y_results)\n",
    "\n",
    "    plt.plot(x_inputs, y_results)\n",
    "    plt.xlabel(\"x (Inputs)\")\n",
    "    plt.ylabel(\"y (ReLU output)\")\n",
    "    plt.show()\n",
    "\n",
    "    return y_results"
   ]
  },
  {
   "cell_type": "code",
   "execution_count": 97,
   "metadata": {},
   "outputs": [
    {
     "name": "stdout",
     "output_type": "stream",
     "text": [
      "ReLU x input: -5\n",
      "Returning 0\n",
      "ReLU x input: -4\n",
      "Returning 0\n",
      "ReLU x input: -3\n",
      "Returning 0\n",
      "ReLU x input: -2\n",
      "Returning 0\n",
      "ReLU x input: -1\n",
      "Returning 0\n",
      "ReLU x input: 0\n",
      "Returning 0\n",
      "ReLU x input: 1\n",
      "Returning x: 1\n",
      "ReLU x input: 2\n",
      "Returning x: 2\n",
      "ReLU x input: 3\n",
      "Returning x: 3\n",
      "ReLU x input: 4\n",
      "Returning x: 4\n",
      "*****\n",
      "Weight: 1 Bias: 0\n",
      "X Inputs: [-5, -4, -3, -2, -1, 0, 1, 2, 3, 4]\n",
      "RELU Inputs: [-5, -4, -3, -2, -1, 0, 1, 2, 3, 4]\n",
      "Results: [0, 0, 0, 0, 0, 0, 1, 2, 3, 4]\n"
     ]
    },
    {
     "data": {
      "image/png": "[encoded data removed]",
      "text/plain": [
       "<Figure size 432x288 with 1 Axes>"
      ]
     },
     "metadata": {
      "needs_background": "light"
     },
     "output_type": "display_data"
    },
    {
     "data": {
      "text/plain": [
       "[0, 0, 0, 0, 0, 0, 1, 2, 3, 4]"
      ]
     },
     "execution_count": 97,
     "metadata": {},
     "output_type": "execute_result"
    }
   ],
   "source": [
    "display_ReLU(weight=1, bias=0)"
   ]
  },
  {
   "cell_type": "code",
   "execution_count": 98,
   "metadata": {},
   "outputs": [
    {
     "ename": "TypeError",
     "evalue": "'int' object is not iterable",
     "output_type": "error",
     "traceback": [
      "\u001b[1;31m---------------------------------------------------------------------------\u001b[0m",
      "\u001b[1;31mTypeError\u001b[0m                                 Traceback (most recent call last)",
      "\u001b[1;32m~\\AppData\\Local\\Temp\\ipykernel_3544\\758149417.py\u001b[0m in \u001b[0;36m<module>\u001b[1;34m\u001b[0m\n\u001b[1;32m----> 1\u001b[1;33m \u001b[0mneg_weight_relu_results\u001b[0m \u001b[1;33m=\u001b[0m \u001b[0mdisplay_ReLU\u001b[0m\u001b[1;33m(\u001b[0m\u001b[0mweight\u001b[0m\u001b[1;33m=\u001b[0m\u001b[1;33m-\u001b[0m\u001b[1;36m1\u001b[0m\u001b[1;33m,\u001b[0m \u001b[0mbias\u001b[0m\u001b[1;33m=\u001b[0m\u001b[1;36m0\u001b[0m\u001b[1;33m)\u001b[0m\u001b[1;33m\u001b[0m\u001b[0m\n\u001b[0m",
      "\u001b[1;32m~\\AppData\\Local\\Temp\\ipykernel_3544\\2841771038.py\u001b[0m in \u001b[0;36mdisplay_ReLU\u001b[1;34m(weight, bias, x_inputs, lower_bound, upper_bound)\u001b[0m\n\u001b[0;32m      4\u001b[0m \u001b[1;33m\u001b[0m\u001b[0m\n\u001b[0;32m      5\u001b[0m     \u001b[1;32mif\u001b[0m \u001b[0mlen\u001b[0m\u001b[1;33m(\u001b[0m\u001b[0mx_inputs\u001b[0m\u001b[1;33m)\u001b[0m \u001b[1;33m>\u001b[0m \u001b[1;36m0\u001b[0m\u001b[1;33m:\u001b[0m\u001b[1;33m\u001b[0m\u001b[0m\n\u001b[1;32m----> 6\u001b[1;33m         \u001b[1;32mfor\u001b[0m \u001b[0mi\u001b[0m \u001b[1;32min\u001b[0m \u001b[0mlen\u001b[0m\u001b[1;33m(\u001b[0m\u001b[0mx_inputs\u001b[0m\u001b[1;33m)\u001b[0m\u001b[1;33m:\u001b[0m\u001b[1;33m\u001b[0m\u001b[0m\n\u001b[0m\u001b[0;32m      7\u001b[0m             \u001b[0mrelu_input\u001b[0m \u001b[1;33m=\u001b[0m \u001b[1;33m(\u001b[0m\u001b[0mx_inputs\u001b[0m\u001b[1;33m[\u001b[0m\u001b[0mi\u001b[0m\u001b[1;33m]\u001b[0m \u001b[1;33m*\u001b[0m \u001b[0mweight\u001b[0m\u001b[1;33m)\u001b[0m \u001b[1;33m+\u001b[0m \u001b[0mbias\u001b[0m\u001b[1;33m\u001b[0m\u001b[0m\n\u001b[0;32m      8\u001b[0m             \u001b[0mrelu_inputs\u001b[0m\u001b[1;33m.\u001b[0m\u001b[0mappend\u001b[0m\u001b[1;33m(\u001b[0m\u001b[0mrelu_input\u001b[0m\u001b[1;33m)\u001b[0m\u001b[1;33m\u001b[0m\u001b[0m\n",
      "\u001b[1;31mTypeError\u001b[0m: 'int' object is not iterable"
     ]
    }
   ],
   "source": [
    "neg_weight_relu_results = display_ReLU(weight=-1, bias=0)"
   ]
  },
  {
   "cell_type": "code",
   "execution_count": null,
   "metadata": {},
   "outputs": [
    {
     "name": "stdout",
     "output_type": "stream",
     "text": [
      "ReLU x input: 6\n",
      "Returning x: 6\n",
      "ReLU x input: 5\n",
      "Returning x: 5\n",
      "ReLU x input: 4\n",
      "Returning x: 4\n",
      "ReLU x input: 3\n",
      "Returning x: 3\n",
      "ReLU x input: 2\n",
      "Returning x: 2\n",
      "ReLU x input: 1\n",
      "Returning x: 1\n",
      "ReLU x input: 0\n",
      "Returning 0\n",
      "ReLU x input: -1\n",
      "Returning 0\n",
      "ReLU x input: -2\n",
      "Returning 0\n",
      "ReLU x input: -3\n",
      "Returning 0\n",
      "*****\n",
      "Weight: -1 Bias: 1\n",
      "X Inputs: [-5, -4, -3, -2, -1, 0, 1, 2, 3, 4]\n",
      "RELU Inputs: [6, 5, 4, 3, 2, 1, 0, -1, -2, -3]\n",
      "Results: [6, 5, 4, 3, 2, 1, 0, 0, 0, 0]\n"
     ]
    },
    {
     "data": {
      "image/png": "[encoded data removed]",
      "text/plain": [
       "<Figure size 432x288 with 1 Axes>"
      ]
     },
     "metadata": {
      "needs_background": "light"
     },
     "output_type": "display_data"
    },
    {
     "data": {
      "text/plain": [
       "[6, 5, 4, 3, 2, 1, 0, 0, 0, 0]"
      ]
     },
     "execution_count": 82,
     "metadata": {},
     "output_type": "execute_result"
    }
   ],
   "source": [
    "display_ReLU(weight=-1, bias=1, x_inputs=neg_weight_relu_results)"
   ]
  }
 ],
 "metadata": {
  "kernelspec": {
   "display_name": "Python 3",
   "language": "python",
   "name": "python3"
  },
  "language_info": {
   "codemirror_mode": {
    "name": "ipython",
    "version": 3
   },
   "file_extension": ".py",
   "mimetype": "text/x-python",
   "name": "python",
   "nbconvert_exporter": "python",
   "pygments_lexer": "ipython3",
   "version": "3.7.0"
  },
  "orig_nbformat": 4,
  "vscode": {
   "interpreter": {
    "hash": "eec67bece78a636467b96713ad9783ecddf94761545077dbecfcf88302223227"
   }
  }
 },
 "nbformat": 4,
 "nbformat_minor": 2
}
