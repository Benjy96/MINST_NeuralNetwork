{
 "cells": [
  {
   "attachments": {},
   "cell_type": "markdown",
   "metadata": {},
   "source": [
    "# Neural Net Structure\n",
    "\n",
    "- 3 batches of 4 inputs\n",
    "- Layer 1: 5 Neurons, 4 weights each -> a weight for each input\n",
    "- Layer 2: 2 Neurons, 5 weights each -> a weight for each input, which comes from Layer 1 Neuron Outputs\n",
    "- Output: 2 values for each of the 3 batches -> a value for each of layer 2's neurons, for each batch\n",
    "\n",
    "How does this work?\n",
    "- Forward Pass does dot product of inputs and weights (and adds bias).\n",
    "- If multiple rows of inputs, dot product maps into those new rows.\n",
    "- - I.e., just a matrix with 1 row instead of 3\n",
    "- - Matrix with 1 row will do dot product of each element against each element of other's columns\n",
    "- - Matrix with 3 rows will do dot product of each element of each row against each element of other's columns"
   ]
  },
  {
   "cell_type": "code",
   "execution_count": 27,
   "metadata": {},
   "outputs": [],
   "source": [
    "import numpy as np\n",
    "np.random.seed(0)\n",
    "\n",
    "class Layer:\n",
    "    def __init__(self, num_inputs, num_neurons):\n",
    "        self.weights = 0.10 * np.random.randn(num_inputs, num_neurons)\n",
    "        print(\"weights:\", self.weights)\n",
    "        self.biases = np.zeros((1, num_neurons))\n",
    "        self.num_outputs = num_neurons\n",
    "\n",
    "    def forward_pass(self, inputs):\n",
    "        self.output = np.dot(inputs, self.weights) + self.biases\n",
    "        return self.output"
   ]
  },
  {
   "cell_type": "code",
   "execution_count": 28,
   "metadata": {},
   "outputs": [
    {
     "name": "stdout",
     "output_type": "stream",
     "text": [
      "3\n"
     ]
    }
   ],
   "source": [
    "# 3 batches of 4 inputs\n",
    "X = [\n",
    "    [1,2,3,2.5],\n",
    "    [2.0,5.0,-1.0,2.0],\n",
    "    [-1.5,2.7,3.3,-0.8]\n",
    "]\n",
    "\n",
    "print(len(X))"
   ]
  },
  {
   "cell_type": "code",
   "execution_count": 29,
   "metadata": {},
   "outputs": [
    {
     "name": "stdout",
     "output_type": "stream",
     "text": [
      "weights: [[ 0.17640523  0.04001572  0.0978738   0.22408932  0.1867558 ]\n",
      " [-0.09772779  0.09500884 -0.01513572 -0.01032189  0.04105985]\n",
      " [ 0.01440436  0.14542735  0.07610377  0.0121675   0.04438632]\n",
      " [ 0.03336743  0.14940791 -0.02051583  0.03130677 -0.08540957]]\n"
     ]
    }
   ],
   "source": [
    "layer1 = Layer(num_inputs=len(X[0]), num_neurons=5)\n",
    "# Each neuron (5 columns) has 4 weights for each set/\"batch\" of inputs"
   ]
  },
  {
   "cell_type": "code",
   "execution_count": 30,
   "metadata": {},
   "outputs": [
    {
     "name": "stdout",
     "output_type": "stream",
     "text": [
      "weights: [[-0.25529898  0.06536186]\n",
      " [ 0.08644362 -0.0742165 ]\n",
      " [ 0.22697546 -0.14543657]\n",
      " [ 0.00457585 -0.01871839]\n",
      " [ 0.15327792  0.14693588]]\n"
     ]
    }
   ],
   "source": [
    "layer2 = Layer(num_inputs=layer1.num_outputs, num_neurons=2)\n",
    "# Each neuron (2 columns) has 5 weights (5 rows to hold each input weight)"
   ]
  },
  {
   "cell_type": "code",
   "execution_count": 31,
   "metadata": {},
   "outputs": [
    {
     "name": "stdout",
     "output_type": "stream",
     "text": [
      "[[ 0.148296   -0.08397602]\n",
      " [ 0.14100315 -0.01340469]\n",
      " [ 0.20124979 -0.07290616]]\n"
     ]
    }
   ],
   "source": [
    "l1Out = layer1.forward_pass(X)\n",
    "l2Out = layer2.forward_pass(l1Out)\n",
    "\n",
    "print(l2Out)\n",
    "# if X is X = [\n",
    "#     [1,2,3,2.5],\n",
    "# ]\n",
    "# l2Out: [[ 0.148296   -0.08397602]]    -> outputs of the only input\n",
    "\n",
    "# if X is [\n",
    "#     [1,2,3,2.5],\n",
    "#     [2.0,5.0,-1.0,2.0],\n",
    "#     [-1.5,2.7,3.3,-0.8]\n",
    "# ]\n",
    "# l2Out: \n",
    "#   [[ 0.148296   -0.08397602]          -> same as the singular X output\n",
    "#   [ 0.14100315 -0.01340469]           -> next batch\n",
    "#   [ 0.20124979 -0.07290616]]          -> next batch"
   ]
  }
 ],
 "metadata": {
  "kernelspec": {
   "display_name": "Python 3",
   "language": "python",
   "name": "python3"
  },
  "language_info": {
   "codemirror_mode": {
    "name": "ipython",
    "version": 3
   },
   "file_extension": ".py",
   "mimetype": "text/x-python",
   "name": "python",
   "nbconvert_exporter": "python",
   "pygments_lexer": "ipython3",
   "version": "3.10.9"
  },
  "orig_nbformat": 4,
  "vscode": {
   "interpreter": {
    "hash": "8ba46140cfef548baead5c5b8b6f740076b495b1ff9526d88ed81dd1f0a7e9aa"
   }
  }
 },
 "nbformat": 4,
 "nbformat_minor": 2
}
