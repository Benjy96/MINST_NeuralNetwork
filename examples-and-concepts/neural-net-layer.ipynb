{
 "cells": [
  {
   "cell_type": "code",
   "execution_count": 48,
   "metadata": {},
   "outputs": [],
   "source": [
    "import numpy as np\n",
    "np.random.seed(0)\n",
    "\n",
    "class Layer:\n",
    "    def __init__(self, num_inputs, num_neurons):\n",
    "        self.weights = 0.10 * np.random.randn(num_inputs, num_neurons)\n",
    "        print(\"weights:\", self.weights)\n",
    "        self.biases = np.zeros((1, num_neurons))\n",
    "        self.num_outputs = num_neurons\n",
    "\n",
    "    def forward_pass(self, inputs):\n",
    "        self.output = np.dot(inputs, self.weights) + self.biases\n",
    "        return self.output"
   ]
  },
  {
   "cell_type": "code",
   "execution_count": 49,
   "metadata": {},
   "outputs": [
    {
     "name": "stdout",
     "output_type": "stream",
     "text": [
      "3\n"
     ]
    }
   ],
   "source": [
    "X = [\n",
    "    [1,2,3,2.5],\n",
    "    [2.0,5.0,-1.0,2.0],\n",
    "    [-1.5,2.7,3.3,-0.8]\n",
    "]\n",
    "print(len(X))"
   ]
  },
  {
   "cell_type": "code",
   "execution_count": 50,
   "metadata": {},
   "outputs": [
    {
     "name": "stdout",
     "output_type": "stream",
     "text": [
      "weights: [[ 0.17640523  0.04001572  0.0978738   0.22408932  0.1867558 ]\n",
      " [-0.09772779  0.09500884 -0.01513572 -0.01032189  0.04105985]\n",
      " [ 0.01440436  0.14542735  0.07610377  0.0121675   0.04438632]]\n"
     ]
    }
   ],
   "source": [
    "layer1 = Layer(num_inputs=len(X), num_neurons=5)\n",
    "# Each neuron (5 columns) has 3 weights...? (for TODO)"
   ]
  },
  {
   "cell_type": "code",
   "execution_count": 52,
   "metadata": {},
   "outputs": [
    {
     "name": "stdout",
     "output_type": "stream",
     "text": [
      "weights: [[ 0.03336743  0.14940791]\n",
      " [-0.02051583  0.03130677]\n",
      " [-0.08540957 -0.25529898]\n",
      " [ 0.06536186  0.08644362]\n",
      " [-0.0742165   0.22697546]]\n"
     ]
    }
   ],
   "source": [
    "layer2 = Layer(num_inputs=layer1.num_outputs, num_neurons=2)\n",
    "# Each neuron (2 columns) has 5 weights (5 rows for each input weight)"
   ]
  },
  {
   "cell_type": "code",
   "execution_count": 51,
   "metadata": {},
   "outputs": [
    {
     "ename": "ValueError",
     "evalue": "shapes (3,4) and (3,5) not aligned: 4 (dim 1) != 3 (dim 0)",
     "output_type": "error",
     "traceback": [
      "\u001b[1;31m---------------------------------------------------------------------------\u001b[0m",
      "\u001b[1;31mValueError\u001b[0m                                Traceback (most recent call last)",
      "Cell \u001b[1;32mIn[51], line 1\u001b[0m\n\u001b[1;32m----> 1\u001b[0m layer1\u001b[39m.\u001b[39;49mforward_pass(X)\n",
      "Cell \u001b[1;32mIn[48], line 12\u001b[0m, in \u001b[0;36mLayer.forward_pass\u001b[1;34m(self, inputs)\u001b[0m\n\u001b[0;32m     11\u001b[0m \u001b[39mdef\u001b[39;00m \u001b[39mforward_pass\u001b[39m(\u001b[39mself\u001b[39m, inputs):\n\u001b[1;32m---> 12\u001b[0m     \u001b[39mself\u001b[39m\u001b[39m.\u001b[39moutput \u001b[39m=\u001b[39m np\u001b[39m.\u001b[39;49mdot(inputs, \u001b[39mself\u001b[39;49m\u001b[39m.\u001b[39;49mweights) \u001b[39m+\u001b[39m \u001b[39mself\u001b[39m\u001b[39m.\u001b[39mbiases\n\u001b[0;32m     13\u001b[0m     \u001b[39mreturn\u001b[39;00m \u001b[39mself\u001b[39m\u001b[39m.\u001b[39moutput\n",
      "File \u001b[1;32m<__array_function__ internals>:200\u001b[0m, in \u001b[0;36mdot\u001b[1;34m(*args, **kwargs)\u001b[0m\n",
      "\u001b[1;31mValueError\u001b[0m: shapes (3,4) and (3,5) not aligned: 4 (dim 1) != 3 (dim 0)"
     ]
    }
   ],
   "source": [
    "layer1.forward_pass(X)"
   ]
  }
 ],
 "metadata": {
  "kernelspec": {
   "display_name": "Python 3",
   "language": "python",
   "name": "python3"
  },
  "language_info": {
   "codemirror_mode": {
    "name": "ipython",
    "version": 3
   },
   "file_extension": ".py",
   "mimetype": "text/x-python",
   "name": "python",
   "nbconvert_exporter": "python",
   "pygments_lexer": "ipython3",
   "version": "3.10.9"
  },
  "orig_nbformat": 4,
  "vscode": {
   "interpreter": {
    "hash": "8ba46140cfef548baead5c5b8b6f740076b495b1ff9526d88ed81dd1f0a7e9aa"
   }
  }
 },
 "nbformat": 4,
 "nbformat_minor": 2
}
