{
 "cells": [
  {
   "cell_type": "code",
   "execution_count": 2,
   "metadata": {},
   "outputs": [],
   "source": [
    "import numpy as np"
   ]
  },
  {
   "cell_type": "code",
   "execution_count": 6,
   "metadata": {},
   "outputs": [
    {
     "name": "stdout",
     "output_type": "stream",
     "text": [
      "4.430000000000001\n"
     ]
    }
   ],
   "source": [
    "inputs = [1,0,1,0,1,1]\n",
    "\n",
    "# weights for each input & a bias make up a single neuron\n",
    "def neuron(inputs, weights=[.3,.2,1.3,.45,.97,.66], bias=1.2):\n",
    "    return np.dot(inputs, weights) + bias\n",
    "    # AKA: return (inputs[0] * weights[0]) + (inputs[1] * weights[1]) .... + bias\n",
    "\n",
    "print(neuron(inputs))"
   ]
  },
  {
   "attachments": {},
   "cell_type": "markdown",
   "metadata": {},
   "source": [
    "- This is essentially a function creating a straight line.\n",
    "- It is \"linear\".\n",
    "- Why?\n",
    "- y = mx + c\n",
    "- That's what the neuron is doing.\n",
    "- We make neurons non-linear by using ACTIVATION FUNCTIONS. So we would pass mx+c to a function.\n",
    "- That function could square it or do something else or whatever."
   ]
  }
 ],
 "metadata": {
  "kernelspec": {
   "display_name": "Python 3",
   "language": "python",
   "name": "python3"
  },
  "language_info": {
   "codemirror_mode": {
    "name": "ipython",
    "version": 3
   },
   "file_extension": ".py",
   "mimetype": "text/x-python",
   "name": "python",
   "nbconvert_exporter": "python",
   "pygments_lexer": "ipython3",
   "version": "3.10.9"
  },
  "orig_nbformat": 4,
  "vscode": {
   "interpreter": {
    "hash": "8ba46140cfef548baead5c5b8b6f740076b495b1ff9526d88ed81dd1f0a7e9aa"
   }
  }
 },
 "nbformat": 4,
 "nbformat_minor": 2
}
